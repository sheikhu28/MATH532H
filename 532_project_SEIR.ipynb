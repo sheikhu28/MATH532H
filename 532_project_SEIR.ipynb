{
  "nbformat": 4,
  "nbformat_minor": 0,
  "metadata": {
    "colab": {
      "name": "532 project SEIR.ipynb",
      "provenance": [],
      "collapsed_sections": []
    },
    "kernelspec": {
      "display_name": "Python 3",
      "name": "python3"
    },
    "language_info": {
      "name": "python"
    }
  },
  "cells": [
    {
      "cell_type": "markdown",
      "metadata": {
        "id": "-x8vm-arGDPB"
      },
      "source": [
        "Math 532H: NONLINEAR DYNAMICS \n",
        "<br />\n",
        "Instructor: Professor Markos Katsoulakis\n",
        "<br />\n",
        "Final Project Write-up 2\n",
        "<br />\n",
        "Sheikh Saqlain, Lisa Zhao\n",
        "\n",
        "# <center> Learning Non-Linear Dynamics: SIR Model </center> \n"
      ]
    },
    {
      "cell_type": "markdown",
      "metadata": {
        "id": "z-MdUM-LIqWV"
      },
      "source": [
        "### 1. Introduction\n",
        "\n",
        "In this project, we want to apply deep learning to solve the inverse problem in the case of epidemic model. More specifically, we aim to use real COVID data to learn parameters in a epidemic model. In this second write-up, we experimented with the classic SIR epidemic model. We did the inverse problem based on data generated from a self-defined SIR model using a python solver. DeepXDE, a deep learning library was used to discover all parameters. At the end, we compared its results with our pre-defined model. "
      ]
    },
    {
      "cell_type": "markdown",
      "metadata": {
        "id": "17KHLpP6Hf3L"
      },
      "source": [
        "### 2. A Classic SIR Model\n",
        "$$\\begin{equation}\n",
        "\\left\\{ \n",
        "  \\begin{aligned}\n",
        "    \\frac{dS}{dt} &=& &-\\beta IS/N,& &S(0) = S_0 \\ge 0&\\\\\n",
        "    \\frac{dI}{dt} &=& &\\beta IS/N - \\gamma I,&&I(0) = I_0 \\ge 0&\\\\\n",
        "    \\frac{dR}{dt} &=& &\\gamma I,& &R(0) = R_0 \\ge 0&\\\\\n",
        "  \\end{aligned}\n",
        "  \\right.\n",
        "\\end{equation}\n",
        "$$\n",
        "\n",
        "The SIR model aims to predict the number of individuals who are susceptible to infection, are actively infected, or have recovered from infection at any given time.\n",
        "\n",
        "Three state variables are $S(t)$, $I(t)$, and $R(t)$. $S(t)$ is the number of susceptibles at time $t$, $I(t)$ is the number of infectives, $R(t)$ is the number of recovered people with immunity. Since $N$ is the total population size, $S/N$ is the susceptible fractions and $S + I+R = N$. Two parameters are $\\beta > 0$ and $\\gamma>0$. $\\beta$ is the contact rate and $ \\gamma$ is the rate of recovery.\n",
        "\n",
        "\n",
        "The term $\\beta IS/N$ indicates that new infections occur as a result of contact between infectives and susceptibles.\n",
        "When a new infection occurs, the individual infected moves from the susceptible class to the infective class. The term $\\gamma I$ indicates that infections get recovered in the rate of $\\gamma$. When a person recover from infection, the individual removes from the infective class and add to the recovery class. The total population $S+I+R$ is a constant since $\\frac{dS}{dt}+\\frac{dI}{dt}+\\frac{dR}{dt} = 0$\n",
        "\n",
        "Below is just an initial exploration of the model where we find the solutions S,I,R as functions to t. In next section, we will use different parameters and initial condition to create training set for the deep learning algorithm. "
      ]
    },
    {
      "cell_type": "markdown",
      "metadata": {
        "id": "MNBcnj-VgM6v"
      },
      "source": [
        "### 3. Deep Learning Using DeepXDE"
      ]
    },
    {
      "cell_type": "code",
      "metadata": {
        "id": "me1JPs69pIld",
        "colab": {
          "base_uri": "https://localhost:8080/"
        },
        "outputId": "a7630e7d-ab35-427f-af82-00d9020952eb"
      },
      "source": [
        "!pip install deepxde "
      ],
      "execution_count": 2,
      "outputs": [
        {
          "output_type": "stream",
          "name": "stdout",
          "text": [
            "Collecting deepxde\n",
            "  Downloading DeepXDE-0.14.0-py3-none-any.whl (111 kB)\n",
            "\u001b[?25l\r\u001b[K     |███                             | 10 kB 25.2 MB/s eta 0:00:01\r\u001b[K     |█████▉                          | 20 kB 27.1 MB/s eta 0:00:01\r\u001b[K     |████████▉                       | 30 kB 18.5 MB/s eta 0:00:01\r\u001b[K     |███████████▊                    | 40 kB 16.1 MB/s eta 0:00:01\r\u001b[K     |██████████████▊                 | 51 kB 5.7 MB/s eta 0:00:01\r\u001b[K     |█████████████████▋              | 61 kB 6.2 MB/s eta 0:00:01\r\u001b[K     |████████████████████▋           | 71 kB 5.0 MB/s eta 0:00:01\r\u001b[K     |███████████████████████▌        | 81 kB 5.5 MB/s eta 0:00:01\r\u001b[K     |██████████████████████████▍     | 92 kB 6.1 MB/s eta 0:00:01\r\u001b[K     |█████████████████████████████▍  | 102 kB 5.5 MB/s eta 0:00:01\r\u001b[K     |████████████████████████████████| 111 kB 5.5 MB/s \n",
            "\u001b[?25hRequirement already satisfied: scikit-learn in /usr/local/lib/python3.7/dist-packages (from deepxde) (1.0.1)\n",
            "Requirement already satisfied: scipy in /usr/local/lib/python3.7/dist-packages (from deepxde) (1.4.1)\n",
            "Requirement already satisfied: matplotlib in /usr/local/lib/python3.7/dist-packages (from deepxde) (3.2.2)\n",
            "Requirement already satisfied: numpy in /usr/local/lib/python3.7/dist-packages (from deepxde) (1.19.5)\n",
            "Collecting scikit-optimize\n",
            "  Downloading scikit_optimize-0.9.0-py2.py3-none-any.whl (100 kB)\n",
            "\u001b[K     |████████████████████████████████| 100 kB 8.2 MB/s \n",
            "\u001b[?25hRequirement already satisfied: kiwisolver>=1.0.1 in /usr/local/lib/python3.7/dist-packages (from matplotlib->deepxde) (1.3.2)\n",
            "Requirement already satisfied: cycler>=0.10 in /usr/local/lib/python3.7/dist-packages (from matplotlib->deepxde) (0.11.0)\n",
            "Requirement already satisfied: python-dateutil>=2.1 in /usr/local/lib/python3.7/dist-packages (from matplotlib->deepxde) (2.8.2)\n",
            "Requirement already satisfied: pyparsing!=2.0.4,!=2.1.2,!=2.1.6,>=2.0.1 in /usr/local/lib/python3.7/dist-packages (from matplotlib->deepxde) (3.0.6)\n",
            "Requirement already satisfied: six>=1.5 in /usr/local/lib/python3.7/dist-packages (from python-dateutil>=2.1->matplotlib->deepxde) (1.15.0)\n",
            "Requirement already satisfied: joblib>=0.11 in /usr/local/lib/python3.7/dist-packages (from scikit-learn->deepxde) (1.1.0)\n",
            "Requirement already satisfied: threadpoolctl>=2.0.0 in /usr/local/lib/python3.7/dist-packages (from scikit-learn->deepxde) (3.0.0)\n",
            "Collecting pyaml>=16.9\n",
            "  Downloading pyaml-21.10.1-py2.py3-none-any.whl (24 kB)\n",
            "Requirement already satisfied: PyYAML in /usr/local/lib/python3.7/dist-packages (from pyaml>=16.9->scikit-optimize->deepxde) (3.13)\n",
            "Installing collected packages: pyaml, scikit-optimize, deepxde\n",
            "Successfully installed deepxde-0.14.0 pyaml-21.10.1 scikit-optimize-0.9.0\n"
          ]
        }
      ]
    },
    {
      "cell_type": "code",
      "metadata": {
        "id": "XtN1ongtsTSA",
        "colab": {
          "base_uri": "https://localhost:8080/"
        },
        "outputId": "8c679c4c-5de9-4a01-e2c9-d43c3c5ae1b7"
      },
      "source": [
        "# All the imports\n",
        "\n",
        "from __future__ import absolute_import\n",
        "from __future__ import division\n",
        "from __future__ import print_function\n",
        "\n",
        "import io\n",
        "import re\n",
        "\n",
        "import requests\n",
        "\n",
        "import numpy as np\n",
        "import scipy.integrate\n",
        "import matplotlib.pyplot as plt\n",
        "import deepxde as dde\n",
        "from deepxde.backend import tf\n",
        "import random"
      ],
      "execution_count": 3,
      "outputs": [
        {
          "output_type": "stream",
          "name": "stderr",
          "text": [
            "Deepxde backend not selected or invalid. Assuming tensorflow.compat.v1 for now.\n",
            "Using backend: tensorflow.compat.v1\n",
            "\n"
          ]
        },
        {
          "output_type": "stream",
          "name": "stdout",
          "text": [
            "Setting the default backend to \"tensorflow.compat.v1\". You can change it in the ~/.deepxde/config.json file or export the DDEBACKEND environment variable. Valid options are: tensorflow.compat.v1, tensorflow, pytorch (all lowercase)\n",
            "WARNING:tensorflow:From /usr/local/lib/python3.7/dist-packages/tensorflow/python/compat/v2_compat.py:111: disable_resource_variables (from tensorflow.python.ops.variable_scope) is deprecated and will be removed in a future version.\n",
            "Instructions for updating:\n",
            "non-resource variables are not supported in the long term\n",
            "WARNING:tensorflow:From /usr/local/lib/python3.7/dist-packages/deepxde/nn/initializers.py:116: The name tf.keras.initializers.he_normal is deprecated. Please use tf.compat.v1.keras.initializers.he_normal instead.\n",
            "\n"
          ]
        }
      ]
    },
    {
      "cell_type": "markdown",
      "metadata": {
        "id": "fCxa1xSHgj1I"
      },
      "source": [
        "#### 3.1 Build Model and Generate Training data"
      ]
    },
    {
      "cell_type": "markdown",
      "metadata": {
        "id": "YHi4QiNDEgmc"
      },
      "source": [
        "This part of the notebook contains the data generation functions. We simply use a numerical integrator to generate data for a set of given initail conditions and parameters."
      ]
    },
    {
      "cell_type": "code",
      "metadata": {
        "id": "fHkKdonnpR_I"
      },
      "source": [
        "def SEIRmodel(S, E, I, R):\n",
        "  beta = 10\n",
        "  gamma = 0.2\n",
        "  a = 20\n",
        "  mu = 3\n",
        "\n",
        "  N = S + E + I + R\n",
        "  return mu*N - mu*S - (beta*I*S/N), (beta*I*S/N) - (mu + a)*E ,(a*E - (gamma + mu)*I), (gamma*I - mu*R)\n",
        "\n",
        "def SEIRmodel_(t, z):\n",
        "  S, E, I, R = z\n",
        "  return SEIRmodel(S, E, I, R)\n",
        "\n",
        "def gen_traindata():\n",
        "  dt = 0.01\n",
        "  tn = 20\n",
        "\n",
        "  S0 = 1000 \n",
        "  E0 = 25\n",
        "  I0 = 5 \n",
        "  R0 = 0 \n",
        "  \n",
        "  sol = scipy.integrate.solve_ivp(SEIRmodel_, (0, tn), (S0, E0, I0, R0), method = 'RK45', t_eval = np.arange(0, tn, dt))\n",
        "\n",
        "  return np.row_stack(np.array(sol.t)), np.column_stack((np.array(sol.y[0]), np.array(sol.y[1]), np.array(sol.y[2]), np.array(sol.y[3])))"
      ],
      "execution_count": 4,
      "outputs": []
    },
    {
      "cell_type": "code",
      "metadata": {
        "id": "9Tk-GT1buyFg"
      },
      "source": [
        "# Initialize the parameters we are trying to find\n",
        "beta = tf.Variable(0.0)\n",
        "gamma = tf.Variable(0.0)\n",
        "a = tf.Variable(0.0)\n",
        "mu = tf.Variable(0.0)\n",
        "\n",
        "# Define the function that returns the system residuals\n",
        "def SEIRmodel__(t, y):\n",
        "  S, E, I, R = y[:, 0:1], y[:, 1:2], y[:, 2:3], y[:, 3:]\n",
        "  dS_t = dde.grad.jacobian(y, t, i = 0)\n",
        "  dE_t = dde.grad.jacobian(y, t, i = 1)\n",
        "  dI_t = dde.grad.jacobian(y, t, i = 2)\n",
        "  dR_t = dde.grad.jacobian(y, t, i = 3)\n",
        "  N = S + E + I + R + 10**-6 # The last term is a regularization term to deal with the case where S + I + R = 0\n",
        "  return [\n",
        "          mu*N - mu*S - (beta*I*S/N) - dS_t,\n",
        "          (beta*I*S/N) - (mu + a)*E - dE_t,\n",
        "          a*E - (gamma + mu)*I - dI_t,\n",
        "          (gamma*I - mu*R) \n",
        "          ]\n",
        "\n",
        "# A function that returns the boundary conditions\n",
        "def boundary(_, on_initial):\n",
        "    return on_initial"
      ],
      "execution_count": 5,
      "outputs": []
    },
    {
      "cell_type": "code",
      "metadata": {
        "colab": {
          "base_uri": "https://localhost:8080/",
          "height": 350
        },
        "id": "2rHbSQIiy0Kl",
        "outputId": "e15eec9c-573d-4d27-d5c8-0417c6649486"
      },
      "source": [
        "# define time domain\n",
        "geom = dde.geometry.TimeDomain(0, 5)\n",
        "\n",
        "\n",
        "# Initial conditions\n",
        "ic1 = dde.IC(geom, lambda X: 1000, boundary, component=0)\n",
        "ic2 = dde.IC(geom, lambda X: 25, boundary, component=1)\n",
        "ic3 = dde.IC(geom, lambda X: 5, boundary, component=2)\n",
        "ic4 = dde.IC(geom, lambda X: 0, boundary, component=3)\n",
        "\n",
        "\n",
        "# Get the training data\n",
        "obs_t, obs_y = gen_traindata()\n",
        "observe_t = obs_t[0:500]\n",
        "ob_y = obs_y[0:500, :]\n",
        "observe_S = dde.PointSetBC(observe_t, ob_y[:, 0:1], component=0)\n",
        "observe_E = dde.PointSetBC(observe_t, ob_y[:, 1:2], component=1)\n",
        "observe_I = dde.PointSetBC(observe_t, ob_y[:, 2:3], component=2)\n",
        "observe_R = dde.PointSetBC(observe_t, ob_y[:, 3:4], component=3)\n",
        "\n",
        "\n",
        "# define data object\n",
        "data = dde.data.PDE(\n",
        "    geom,\n",
        "    SEIRmodel__,\n",
        "    [ic1, ic2, ic3, ic4, observe_S, observe_E, observe_I, observe_R],\n",
        "    num_domain=400,\n",
        "    num_boundary=2,\n",
        "    anchors=observe_t,\n",
        ")\n",
        "\n",
        "# Plot the initial data\n",
        "plt.plot(observe_t, ob_y)\n",
        "plt.xlabel('Time')\n",
        "plt.legend(['S','I','R'])\n",
        "plt.title('Training data')\n",
        "plt.show()"
      ],
      "execution_count": 11,
      "outputs": [
        {
          "output_type": "stream",
          "name": "stderr",
          "text": [
            "/usr/local/lib/python3.7/dist-packages/skopt/sampler/sobol.py:250: UserWarning: The balance properties of Sobol' points require n to be a power of 2. 0 points have been previously generated, then: n=0+402=402. \n",
            "  total_n_samples))\n"
          ]
        },
        {
          "output_type": "display_data",
          "data": {
            "image/png": "[encoded data removed]",
            "text/plain": [
              "<Figure size 432x288 with 1 Axes>"
            ]
          },
          "metadata": {
            "needs_background": "light"
          }
        }
      ]
    },
    {
      "cell_type": "markdown",
      "metadata": {
        "id": "Vp_nSUjXgw9_"
      },
      "source": [
        "#### 3.2 Learning Parameters from Data."
      ]
    },
    {
      "cell_type": "markdown",
      "metadata": {
        "id": "9VaqSYTBExr4"
      },
      "source": [
        "Most of the code is similar to an example from the DeepXDE documentation (https://deepxde.readthedocs.io/en/latest/demos/lorenz.inverse.html). Our intention has been to use the same framework that they used but to solve a different problem."
      ]
    },
    {
      "cell_type": "code",
      "metadata": {
        "colab": {
          "base_uri": "https://localhost:8080/"
        },
        "id": "2ny7bxP709kH",
        "outputId": "9044d1e9-47bb-468e-cc2c-a1ad0b1aacd3"
      },
      "source": [
        "# define FNN architecture and compile\n",
        "net = dde.maps.FNN([1] + [40] * 3 + [4], \"tanh\", \"Glorot uniform\")\n",
        "model = dde.Model(data, net)\n",
        "model.compile(\"adam\", lr=0.001)\n",
        "\n",
        "# callbacks for storing results\n",
        "fnamevar = \"variables.dat\"\n",
        "variable = dde.callbacks.VariableValue(\n",
        "    [beta, gamma, a, mu], \n",
        "    period=1,\n",
        "    filename=fnamevar\n",
        ")"
      ],
      "execution_count": 12,
      "outputs": [
        {
          "output_type": "stream",
          "name": "stdout",
          "text": [
            "Compiling model...\n",
            "Building feed-forward neural network...\n",
            "'build' took 0.073808 s\n",
            "\n"
          ]
        },
        {
          "output_type": "stream",
          "name": "stderr",
          "text": [
            "/usr/local/lib/python3.7/dist-packages/deepxde/nn/tensorflow_compat_v1/fnn.py:110: UserWarning: `tf.layers.dense` is deprecated and will be removed in a future version. Please use `tf.keras.layers.Dense` instead.\n",
            "  kernel_constraint=self.kernel_constraint,\n",
            "/usr/local/lib/python3.7/dist-packages/keras/legacy_tf_layers/core.py:255: UserWarning: `layer.apply` is deprecated and will be removed in a future version. Please use `layer.__call__` method instead.\n",
            "  return layer.apply(inputs)\n"
          ]
        },
        {
          "output_type": "stream",
          "name": "stdout",
          "text": [
            "'compile' took 1.122618 s\n",
            "\n"
          ]
        }
      ]
    },
    {
      "cell_type": "code",
      "source": [
        "losshistory, train_state = model.train(epochs=80000, callbacks=[variable])"
      ],
      "metadata": {
        "colab": {
          "base_uri": "https://localhost:8080/",
          "height": 1000
        },
        "id": "KMKiz5_Nmz5A",
        "outputId": "1e69c88f-3b33-4582-cd28-0ff9e5d21a6b"
      },
      "execution_count": 18,
      "outputs": [
        {
          "output_type": "stream",
          "name": "stdout",
          "text": [
            "Training model...\n",
            "\n",
            "Step      Train loss                                                                                                                  Test loss                                                                                                                   Test metric\n",
            "60000     [5.02e+00, 4.40e+00, 5.23e+00, 8.95e+00, 3.07e-01, 2.89e-01, 2.85e-01, 2.62e-03, 1.98e+00, 1.83e+00, 2.41e+00, 7.51e+00]    [5.02e+00, 4.40e+00, 5.23e+00, 8.95e+00, 3.07e-01, 2.89e-01, 2.85e-01, 2.62e-03, 1.98e+00, 1.83e+00, 2.41e+00, 7.51e+00]    []  \n",
            "61000     [5.60e+00, 4.30e+00, 4.99e+00, 8.88e+00, 3.03e-01, 3.06e-01, 3.23e-01, 2.33e-03, 1.93e+00, 1.77e+00, 2.43e+00, 7.54e+00]    [5.60e+00, 4.30e+00, 4.99e+00, 8.88e+00, 3.03e-01, 3.06e-01, 3.23e-01, 2.33e-03, 1.93e+00, 1.77e+00, 2.43e+00, 7.54e+00]    []  \n",
            "62000     [4.65e+00, 4.43e+00, 5.61e+00, 8.80e+00, 2.95e-01, 3.37e-01, 3.25e-01, 2.47e-03, 2.02e+00, 1.73e+00, 2.39e+00, 7.55e+00]    [4.65e+00, 4.43e+00, 5.61e+00, 8.80e+00, 2.95e-01, 3.37e-01, 3.25e-01, 2.47e-03, 2.02e+00, 1.73e+00, 2.39e+00, 7.55e+00]    []  \n",
            "63000     [5.32e+00, 6.48e+00, 3.99e+00, 8.71e+00, 2.95e-01, 3.28e-01, 3.61e-01, 2.34e-03, 1.98e+00, 1.73e+00, 2.48e+00, 7.59e+00]    [5.32e+00, 6.48e+00, 3.99e+00, 8.71e+00, 2.95e-01, 3.28e-01, 3.61e-01, 2.34e-03, 1.98e+00, 1.73e+00, 2.48e+00, 7.59e+00]    []  \n",
            "64000     [5.25e+00, 4.38e+00, 5.17e+00, 8.73e+00, 2.94e-01, 3.29e-01, 3.81e-01, 2.48e-03, 1.99e+00, 1.70e+00, 2.42e+00, 7.58e+00]    [5.25e+00, 4.38e+00, 5.17e+00, 8.73e+00, 2.94e-01, 3.29e-01, 3.81e-01, 2.48e-03, 1.99e+00, 1.70e+00, 2.42e+00, 7.58e+00]    []  \n",
            "65000     [4.95e+00, 4.94e+00, 4.65e+00, 8.67e+00, 2.89e-01, 3.59e-01, 3.69e-01, 2.15e-03, 1.99e+00, 1.69e+00, 2.40e+00, 7.59e+00]    [4.95e+00, 4.94e+00, 4.65e+00, 8.67e+00, 2.89e-01, 3.59e-01, 3.69e-01, 2.15e-03, 1.99e+00, 1.69e+00, 2.40e+00, 7.59e+00]    []  \n",
            "66000     [4.84e+00, 4.77e+00, 4.89e+00, 8.66e+00, 2.86e-01, 3.60e-01, 3.80e-01, 2.11e-03, 2.02e+00, 1.68e+00, 2.39e+00, 7.60e+00]    [4.84e+00, 4.77e+00, 4.89e+00, 8.66e+00, 2.86e-01, 3.60e-01, 3.80e-01, 2.11e-03, 2.02e+00, 1.68e+00, 2.39e+00, 7.60e+00]    []  \n",
            "67000     [4.78e+00, 4.67e+00, 5.02e+00, 8.64e+00, 2.83e-01, 3.59e-01, 3.91e-01, 2.15e-03, 2.04e+00, 1.68e+00, 2.39e+00, 7.60e+00]    [4.78e+00, 4.67e+00, 5.02e+00, 8.64e+00, 2.83e-01, 3.59e-01, 3.91e-01, 2.15e-03, 2.04e+00, 1.68e+00, 2.39e+00, 7.60e+00]    []  \n",
            "68000     [5.41e+00, 4.59e+00, 4.63e+00, 8.63e+00, 2.80e-01, 3.68e-01, 3.90e-01, 2.16e-03, 1.97e+00, 1.67e+00, 2.38e+00, 7.61e+00]    [5.41e+00, 4.59e+00, 4.63e+00, 8.63e+00, 2.80e-01, 3.68e-01, 3.90e-01, 2.16e-03, 1.97e+00, 1.67e+00, 2.38e+00, 7.61e+00]    []  \n",
            "69000     [4.89e+00, 5.38e+00, 4.40e+00, 8.59e+00, 2.78e-01, 3.69e-01, 4.00e-01, 2.08e-03, 2.05e+00, 1.68e+00, 2.42e+00, 7.61e+00]    [4.89e+00, 5.38e+00, 4.40e+00, 8.59e+00, 2.78e-01, 3.69e-01, 4.00e-01, 2.08e-03, 2.05e+00, 1.68e+00, 2.42e+00, 7.61e+00]    []  \n",
            "70000     [4.68e+00, 4.77e+00, 4.95e+00, 8.59e+00, 2.75e-01, 3.74e-01, 4.02e-01, 2.01e-03, 2.06e+00, 1.67e+00, 2.38e+00, 7.61e+00]    [4.68e+00, 4.77e+00, 4.95e+00, 8.59e+00, 2.75e-01, 3.74e-01, 4.02e-01, 2.01e-03, 2.06e+00, 1.67e+00, 2.38e+00, 7.61e+00]    []  \n",
            "71000     [4.56e+00, 6.09e+00, 4.72e+00, 8.55e+00, 2.70e-01, 4.00e-01, 3.83e-01, 2.11e-03, 2.16e+00, 1.68e+00, 2.45e+00, 7.61e+00]    [4.56e+00, 6.09e+00, 4.72e+00, 8.55e+00, 2.70e-01, 4.00e-01, 3.83e-01, 2.11e-03, 2.16e+00, 1.68e+00, 2.45e+00, 7.61e+00]    []  \n",
            "72000     [5.03e+00, 5.03e+00, 4.38e+00, 8.57e+00, 2.68e-01, 3.73e-01, 4.08e-01, 2.42e-03, 2.04e+00, 1.67e+00, 2.38e+00, 7.62e+00]    [5.03e+00, 5.03e+00, 4.38e+00, 8.57e+00, 2.68e-01, 3.73e-01, 4.08e-01, 2.42e-03, 2.04e+00, 1.67e+00, 2.38e+00, 7.62e+00]    []  \n",
            "73000     [5.89e+00, 4.28e+00, 5.63e+00, 8.56e+00, 2.69e-01, 3.81e-01, 4.15e-01, 2.07e-03, 1.98e+00, 1.66e+00, 2.30e+00, 7.61e+00]    [5.89e+00, 4.28e+00, 5.63e+00, 8.56e+00, 2.69e-01, 3.81e-01, 4.15e-01, 2.07e-03, 1.98e+00, 1.66e+00, 2.30e+00, 7.61e+00]    []  \n",
            "74000     [4.90e+00, 4.84e+00, 4.60e+00, 8.54e+00, 2.66e-01, 3.77e-01, 4.23e-01, 1.98e-03, 2.06e+00, 1.67e+00, 2.37e+00, 7.62e+00]    [4.90e+00, 4.84e+00, 4.60e+00, 8.54e+00, 2.66e-01, 3.77e-01, 4.23e-01, 1.98e-03, 2.06e+00, 1.67e+00, 2.37e+00, 7.62e+00]    []  \n",
            "75000     [4.34e+00, 5.64e+00, 4.62e+00, 8.50e+00, 2.62e-01, 4.07e-01, 4.01e-01, 1.88e-03, 2.14e+00, 1.67e+00, 2.36e+00, 7.62e+00]    [4.34e+00, 5.64e+00, 4.62e+00, 8.50e+00, 2.62e-01, 4.07e-01, 4.01e-01, 1.88e-03, 2.14e+00, 1.67e+00, 2.36e+00, 7.62e+00]    []  \n",
            "76000     [4.95e+00, 4.72e+00, 4.67e+00, 8.52e+00, 2.61e-01, 3.75e-01, 4.34e-01, 2.03e-03, 2.07e+00, 1.67e+00, 2.37e+00, 7.62e+00]    [4.95e+00, 4.72e+00, 4.67e+00, 8.52e+00, 2.61e-01, 3.75e-01, 4.34e-01, 2.03e-03, 2.07e+00, 1.67e+00, 2.37e+00, 7.62e+00]    []  \n",
            "77000     [4.56e+00, 4.89e+00, 5.00e+00, 8.49e+00, 2.60e-01, 3.65e-01, 4.47e-01, 2.29e-03, 2.12e+00, 1.66e+00, 2.35e+00, 7.62e+00]    [4.56e+00, 4.89e+00, 5.00e+00, 8.49e+00, 2.60e-01, 3.65e-01, 4.47e-01, 2.29e-03, 2.12e+00, 1.66e+00, 2.35e+00, 7.62e+00]    []  \n",
            "78000     [4.81e+00, 4.71e+00, 4.71e+00, 8.50e+00, 2.56e-01, 3.89e-01, 4.34e-01, 1.78e-03, 2.09e+00, 1.67e+00, 2.36e+00, 7.62e+00]    [4.81e+00, 4.71e+00, 4.71e+00, 8.50e+00, 2.56e-01, 3.89e-01, 4.34e-01, 1.78e-03, 2.09e+00, 1.67e+00, 2.36e+00, 7.62e+00]    []  \n",
            "79000     [4.64e+00, 4.64e+00, 4.91e+00, 8.48e+00, 2.53e-01, 3.86e-01, 4.40e-01, 1.79e-03, 2.12e+00, 1.66e+00, 2.35e+00, 7.62e+00]    [4.64e+00, 4.64e+00, 4.91e+00, 8.48e+00, 2.53e-01, 3.86e-01, 4.40e-01, 1.79e-03, 2.12e+00, 1.66e+00, 2.35e+00, 7.62e+00]    []  \n",
            "80000     [4.80e+00, 4.70e+00, 4.68e+00, 8.47e+00, 2.50e-01, 3.88e-01, 4.40e-01, 1.82e-03, 2.11e+00, 1.66e+00, 2.35e+00, 7.62e+00]    [4.80e+00, 4.70e+00, 4.68e+00, 8.47e+00, 2.50e-01, 3.88e-01, 4.40e-01, 1.82e-03, 2.11e+00, 1.66e+00, 2.35e+00, 7.62e+00]    []  \n",
            "81000     [5.59e+00, 7.46e+00, 3.79e+00, 8.42e+00, 2.47e-01, 3.96e-01, 4.38e-01, 1.72e-03, 2.11e+00, 1.69e+00, 2.47e+00, 7.65e+00]    [5.59e+00, 7.46e+00, 3.79e+00, 8.42e+00, 2.47e-01, 3.96e-01, 4.38e-01, 1.72e-03, 2.11e+00, 1.69e+00, 2.47e+00, 7.65e+00]    []  \n",
            "82000     [4.91e+00, 3.41e+00, 8.07e+00, 8.48e+00, 2.46e-01, 3.86e-01, 4.50e-01, 1.67e-03, 2.16e+00, 1.65e+00, 2.25e+00, 7.60e+00]    [4.91e+00, 3.41e+00, 8.07e+00, 8.48e+00, 2.46e-01, 3.86e-01, 4.50e-01, 1.67e-03, 2.16e+00, 1.65e+00, 2.25e+00, 7.60e+00]    []  \n",
            "83000     [5.18e+00, 7.51e+00, 4.41e+00, 8.39e+00, 2.42e-01, 3.91e-01, 4.43e-01, 1.69e-03, 2.21e+00, 1.69e+00, 2.47e+00, 7.64e+00]    [5.18e+00, 7.51e+00, 4.41e+00, 8.39e+00, 2.42e-01, 3.91e-01, 4.43e-01, 1.69e-03, 2.21e+00, 1.69e+00, 2.47e+00, 7.64e+00]    []  \n",
            "84000     [6.30e+00, 3.97e+00, 5.06e+00, 8.45e+00, 2.37e-01, 3.68e-01, 4.98e-01, 1.43e-03, 2.03e+00, 1.66e+00, 2.35e+00, 7.63e+00]    [6.30e+00, 3.97e+00, 5.06e+00, 8.45e+00, 2.37e-01, 3.68e-01, 4.98e-01, 1.43e-03, 2.03e+00, 1.66e+00, 2.35e+00, 7.63e+00]    []  \n",
            "85000     [4.99e+00, 4.69e+00, 4.41e+00, 8.40e+00, 2.31e-01, 3.99e-01, 4.66e-01, 1.53e-03, 2.13e+00, 1.66e+00, 2.34e+00, 7.63e+00]    [4.99e+00, 4.69e+00, 4.41e+00, 8.40e+00, 2.31e-01, 3.99e-01, 4.66e-01, 1.53e-03, 2.13e+00, 1.66e+00, 2.34e+00, 7.63e+00]    []  \n",
            "86000     [4.18e+00, 4.08e+00, 6.18e+00, 8.37e+00, 2.27e-01, 3.91e-01, 4.62e-01, 1.92e-03, 2.26e+00, 1.65e+00, 2.31e+00, 7.62e+00]    [4.18e+00, 4.08e+00, 6.18e+00, 8.37e+00, 2.27e-01, 3.91e-01, 4.62e-01, 1.92e-03, 2.26e+00, 1.65e+00, 2.31e+00, 7.62e+00]    []  \n",
            "87000     [7.24e+00, 4.01e+00, 4.51e+00, 8.42e+00, 2.29e-01, 3.66e-01, 4.91e-01, 1.52e-03, 1.97e+00, 1.66e+00, 2.35e+00, 7.64e+00]    [7.24e+00, 4.01e+00, 4.51e+00, 8.42e+00, 2.29e-01, 3.66e-01, 4.91e-01, 1.52e-03, 1.97e+00, 1.66e+00, 2.35e+00, 7.64e+00]    []  \n",
            "88000     [4.31e+00, 4.68e+00, 4.89e+00, 8.35e+00, 2.23e-01, 3.97e-01, 4.59e-01, 1.55e-03, 2.24e+00, 1.66e+00, 2.35e+00, 7.63e+00]    [4.31e+00, 4.68e+00, 4.89e+00, 8.35e+00, 2.23e-01, 3.97e-01, 4.59e-01, 1.55e-03, 2.24e+00, 1.66e+00, 2.35e+00, 7.63e+00]    []  \n",
            "89000     [5.38e+00, 5.28e+00, 4.20e+00, 8.36e+00, 2.21e-01, 3.84e-01, 4.64e-01, 1.65e-03, 2.18e+00, 1.67e+00, 2.43e+00, 7.64e+00]    [5.38e+00, 5.28e+00, 4.20e+00, 8.36e+00, 2.21e-01, 3.84e-01, 4.64e-01, 1.65e-03, 2.18e+00, 1.67e+00, 2.43e+00, 7.64e+00]    []  \n",
            "90000     [5.77e+00, 4.43e+00, 4.20e+00, 8.35e+00, 2.19e-01, 3.89e-01, 4.62e-01, 1.46e-03, 2.09e+00, 1.66e+00, 2.41e+00, 7.65e+00]    [5.77e+00, 4.43e+00, 4.20e+00, 8.35e+00, 2.19e-01, 3.89e-01, 4.62e-01, 1.46e-03, 2.09e+00, 1.66e+00, 2.41e+00, 7.65e+00]    []  \n",
            "91000     [4.45e+00, 4.88e+00, 4.50e+00, 8.32e+00, 2.14e-01, 3.91e-01, 4.51e-01, 1.67e-03, 2.23e+00, 1.66e+00, 2.37e+00, 7.65e+00]    [4.45e+00, 4.88e+00, 4.50e+00, 8.32e+00, 2.14e-01, 3.91e-01, 4.51e-01, 1.67e-03, 2.23e+00, 1.66e+00, 2.37e+00, 7.65e+00]    []  \n",
            "92000     [4.82e+00, 4.15e+00, 4.95e+00, 8.32e+00, 2.14e-01, 3.78e-01, 4.64e-01, 1.54e-03, 2.19e+00, 1.66e+00, 2.36e+00, 7.65e+00]    [4.82e+00, 4.15e+00, 4.95e+00, 8.32e+00, 2.14e-01, 3.78e-01, 4.64e-01, 1.54e-03, 2.19e+00, 1.66e+00, 2.36e+00, 7.65e+00]    []  \n",
            "93000     [4.05e+00, 5.35e+00, 4.73e+00, 8.28e+00, 2.10e-01, 4.05e-01, 4.39e-01, 1.48e-03, 2.32e+00, 1.66e+00, 2.34e+00, 7.65e+00]    [4.05e+00, 5.35e+00, 4.73e+00, 8.28e+00, 2.10e-01, 4.05e-01, 4.39e-01, 1.48e-03, 2.32e+00, 1.66e+00, 2.34e+00, 7.65e+00]    []  \n",
            "94000     [4.50e+00, 4.46e+00, 4.76e+00, 8.29e+00, 2.09e-01, 3.86e-01, 4.56e-01, 1.48e-03, 2.24e+00, 1.65e+00, 2.36e+00, 7.65e+00]    [4.50e+00, 4.46e+00, 4.76e+00, 8.29e+00, 2.09e-01, 3.86e-01, 4.56e-01, 1.48e-03, 2.24e+00, 1.65e+00, 2.36e+00, 7.65e+00]    []  \n",
            "95000     [4.65e+00, 4.33e+00, 4.77e+00, 8.28e+00, 2.06e-01, 3.84e-01, 4.55e-01, 1.51e-03, 2.22e+00, 1.65e+00, 2.36e+00, 7.65e+00]    [4.65e+00, 4.33e+00, 4.77e+00, 8.28e+00, 2.06e-01, 3.84e-01, 4.55e-01, 1.51e-03, 2.22e+00, 1.65e+00, 2.36e+00, 7.65e+00]    []  \n",
            "96000     [4.55e+00, 4.53e+00, 4.59e+00, 8.26e+00, 2.04e-01, 3.84e-01, 4.57e-01, 1.39e-03, 2.24e+00, 1.65e+00, 2.36e+00, 7.66e+00]    [4.55e+00, 4.53e+00, 4.59e+00, 8.26e+00, 2.04e-01, 3.84e-01, 4.57e-01, 1.39e-03, 2.24e+00, 1.65e+00, 2.36e+00, 7.66e+00]    []  \n",
            "97000     [4.40e+00, 5.34e+00, 4.49e+00, 8.24e+00, 2.00e-01, 3.91e-01, 4.47e-01, 1.47e-03, 2.33e+00, 1.66e+00, 2.42e+00, 7.66e+00]    [4.40e+00, 5.34e+00, 4.49e+00, 8.24e+00, 2.00e-01, 3.91e-01, 4.47e-01, 1.47e-03, 2.33e+00, 1.66e+00, 2.42e+00, 7.66e+00]    []  \n",
            "98000     [4.12e+00, 3.39e+00, 7.36e+00, 8.25e+00, 2.00e-01, 3.64e-01, 4.74e-01, 1.46e-03, 2.36e+00, 1.64e+00, 2.27e+00, 7.65e+00]    [4.12e+00, 3.39e+00, 7.36e+00, 8.25e+00, 2.00e-01, 3.64e-01, 4.74e-01, 1.46e-03, 2.36e+00, 1.64e+00, 2.27e+00, 7.65e+00]    []  \n",
            "99000     [4.54e+00, 5.21e+00, 4.01e+00, 8.21e+00, 1.95e-01, 4.02e-01, 4.36e-01, 1.28e-03, 2.25e+00, 1.65e+00, 2.40e+00, 7.67e+00]    [4.54e+00, 5.21e+00, 4.01e+00, 8.21e+00, 1.95e-01, 4.02e-01, 4.36e-01, 1.28e-03, 2.25e+00, 1.65e+00, 2.40e+00, 7.67e+00]    []  \n",
            "100000    [4.89e+00, 4.81e+00, 4.08e+00, 8.21e+00, 1.94e-01, 3.83e-01, 4.51e-01, 1.38e-03, 2.23e+00, 1.65e+00, 2.42e+00, 7.67e+00]    [4.89e+00, 4.81e+00, 4.08e+00, 8.21e+00, 1.94e-01, 3.83e-01, 4.51e-01, 1.38e-03, 2.23e+00, 1.65e+00, 2.42e+00, 7.67e+00]    []  \n",
            "101000    [5.40e+00, 5.81e+00, 3.80e+00, 8.19e+00, 1.90e-01, 3.89e-01, 4.46e-01, 1.29e-03, 2.24e+00, 1.66e+00, 2.49e+00, 7.68e+00]    [5.40e+00, 5.81e+00, 3.80e+00, 8.19e+00, 1.90e-01, 3.89e-01, 4.46e-01, 1.29e-03, 2.24e+00, 1.66e+00, 2.49e+00, 7.68e+00]    []  \n",
            "102000    [4.45e+00, 4.61e+00, 4.43e+00, 8.18e+00, 1.89e-01, 3.79e-01, 4.54e-01, 1.31e-03, 2.29e+00, 1.65e+00, 2.38e+00, 7.68e+00]    [4.45e+00, 4.61e+00, 4.43e+00, 8.18e+00, 1.89e-01, 3.79e-01, 4.54e-01, 1.31e-03, 2.29e+00, 1.65e+00, 2.38e+00, 7.68e+00]    []  \n",
            "103000    [4.67e+00, 4.32e+00, 4.53e+00, 8.17e+00, 1.86e-01, 3.72e-01, 4.61e-01, 1.28e-03, 2.27e+00, 1.64e+00, 2.37e+00, 7.68e+00]    [4.67e+00, 4.32e+00, 4.53e+00, 8.17e+00, 1.86e-01, 3.72e-01, 4.61e-01, 1.28e-03, 2.27e+00, 1.64e+00, 2.37e+00, 7.68e+00]    []  \n",
            "104000    [3.93e+00, 4.79e+00, 4.80e+00, 8.14e+00, 1.82e-01, 3.84e-01, 4.47e-01, 1.35e-03, 2.40e+00, 1.64e+00, 2.38e+00, 7.68e+00]    [3.93e+00, 4.79e+00, 4.80e+00, 8.14e+00, 1.82e-01, 3.84e-01, 4.47e-01, 1.35e-03, 2.40e+00, 1.64e+00, 2.38e+00, 7.68e+00]    []  \n",
            "105000    [4.17e+00, 4.42e+00, 4.80e+00, 8.13e+00, 1.81e-01, 3.80e-01, 4.51e-01, 1.21e-03, 2.35e+00, 1.64e+00, 2.38e+00, 7.68e+00]    [4.17e+00, 4.42e+00, 4.80e+00, 8.13e+00, 1.81e-01, 3.80e-01, 4.51e-01, 1.21e-03, 2.35e+00, 1.64e+00, 2.38e+00, 7.68e+00]    []  \n",
            "106000    [4.13e+00, 4.32e+00, 4.93e+00, 8.12e+00, 1.78e-01, 3.73e-01, 4.54e-01, 1.34e-03, 2.36e+00, 1.64e+00, 2.37e+00, 7.68e+00]    [4.13e+00, 4.32e+00, 4.93e+00, 8.12e+00, 1.78e-01, 3.73e-01, 4.54e-01, 1.34e-03, 2.36e+00, 1.64e+00, 2.37e+00, 7.68e+00]    []  \n",
            "107000    [4.11e+00, 4.57e+00, 4.73e+00, 8.10e+00, 1.75e-01, 3.83e-01, 4.45e-01, 1.19e-03, 2.38e+00, 1.64e+00, 2.42e+00, 7.69e+00]    [4.11e+00, 4.57e+00, 4.73e+00, 8.10e+00, 1.75e-01, 3.83e-01, 4.45e-01, 1.19e-03, 2.38e+00, 1.64e+00, 2.42e+00, 7.69e+00]    []  \n"
          ]
        },
        {
          "output_type": "error",
          "ename": "KeyboardInterrupt",
          "evalue": "ignored",
          "traceback": [
            "\u001b[0;31m---------------------------------------------------------------------------\u001b[0m",
            "\u001b[0;31mKeyboardInterrupt\u001b[0m                         Traceback (most recent call last)",
            "\u001b[0;32m<ipython-input-18-77284a836749>\u001b[0m in \u001b[0;36m<module>\u001b[0;34m()\u001b[0m\n\u001b[0;32m----> 1\u001b[0;31m \u001b[0mlosshistory\u001b[0m\u001b[0;34m,\u001b[0m \u001b[0mtrain_state\u001b[0m \u001b[0;34m=\u001b[0m \u001b[0mmodel\u001b[0m\u001b[0;34m.\u001b[0m\u001b[0mtrain\u001b[0m\u001b[0;34m(\u001b[0m\u001b[0mepochs\u001b[0m\u001b[0;34m=\u001b[0m\u001b[0;36m80000\u001b[0m\u001b[0;34m,\u001b[0m \u001b[0mcallbacks\u001b[0m\u001b[0;34m=\u001b[0m\u001b[0;34m[\u001b[0m\u001b[0mvariable\u001b[0m\u001b[0;34m]\u001b[0m\u001b[0;34m)\u001b[0m\u001b[0;34m\u001b[0m\u001b[0;34m\u001b[0m\u001b[0m\n\u001b[0m",
            "\u001b[0;32m/usr/local/lib/python3.7/dist-packages/deepxde/utils/internal.py\u001b[0m in \u001b[0;36mwrapper\u001b[0;34m(*args, **kwargs)\u001b[0m\n\u001b[1;32m     20\u001b[0m     \u001b[0;32mdef\u001b[0m \u001b[0mwrapper\u001b[0m\u001b[0;34m(\u001b[0m\u001b[0;34m*\u001b[0m\u001b[0margs\u001b[0m\u001b[0;34m,\u001b[0m \u001b[0;34m**\u001b[0m\u001b[0mkwargs\u001b[0m\u001b[0;34m)\u001b[0m\u001b[0;34m:\u001b[0m\u001b[0;34m\u001b[0m\u001b[0;34m\u001b[0m\u001b[0m\n\u001b[1;32m     21\u001b[0m         \u001b[0mts\u001b[0m \u001b[0;34m=\u001b[0m \u001b[0mtimeit\u001b[0m\u001b[0;34m.\u001b[0m\u001b[0mdefault_timer\u001b[0m\u001b[0;34m(\u001b[0m\u001b[0;34m)\u001b[0m\u001b[0;34m\u001b[0m\u001b[0;34m\u001b[0m\u001b[0m\n\u001b[0;32m---> 22\u001b[0;31m         \u001b[0mresult\u001b[0m \u001b[0;34m=\u001b[0m \u001b[0mf\u001b[0m\u001b[0;34m(\u001b[0m\u001b[0;34m*\u001b[0m\u001b[0margs\u001b[0m\u001b[0;34m,\u001b[0m \u001b[0;34m**\u001b[0m\u001b[0mkwargs\u001b[0m\u001b[0;34m)\u001b[0m\u001b[0;34m\u001b[0m\u001b[0;34m\u001b[0m\u001b[0m\n\u001b[0m\u001b[1;32m     23\u001b[0m         \u001b[0mte\u001b[0m \u001b[0;34m=\u001b[0m \u001b[0mtimeit\u001b[0m\u001b[0;34m.\u001b[0m\u001b[0mdefault_timer\u001b[0m\u001b[0;34m(\u001b[0m\u001b[0;34m)\u001b[0m\u001b[0;34m\u001b[0m\u001b[0;34m\u001b[0m\u001b[0m\n\u001b[1;32m     24\u001b[0m         \u001b[0mprint\u001b[0m\u001b[0;34m(\u001b[0m\u001b[0;34m\"%r took %f s\\n\"\u001b[0m \u001b[0;34m%\u001b[0m \u001b[0;34m(\u001b[0m\u001b[0mf\u001b[0m\u001b[0;34m.\u001b[0m\u001b[0m__name__\u001b[0m\u001b[0;34m,\u001b[0m \u001b[0mte\u001b[0m \u001b[0;34m-\u001b[0m \u001b[0mts\u001b[0m\u001b[0;34m)\u001b[0m\u001b[0;34m)\u001b[0m\u001b[0;34m\u001b[0m\u001b[0;34m\u001b[0m\u001b[0m\n",
            "\u001b[0;32m/usr/local/lib/python3.7/dist-packages/deepxde/model.py\u001b[0m in \u001b[0;36mtrain\u001b[0;34m(self, epochs, batch_size, display_every, disregard_previous_best, callbacks, model_restore_path, model_save_path)\u001b[0m\n\u001b[1;32m    359\u001b[0m             \u001b[0;32mif\u001b[0m \u001b[0mepochs\u001b[0m \u001b[0;32mis\u001b[0m \u001b[0;32mNone\u001b[0m\u001b[0;34m:\u001b[0m\u001b[0;34m\u001b[0m\u001b[0;34m\u001b[0m\u001b[0m\n\u001b[1;32m    360\u001b[0m                 \u001b[0;32mraise\u001b[0m \u001b[0mValueError\u001b[0m\u001b[0;34m(\u001b[0m\u001b[0;34m\"No epochs for {}.\"\u001b[0m\u001b[0;34m.\u001b[0m\u001b[0mformat\u001b[0m\u001b[0;34m(\u001b[0m\u001b[0mself\u001b[0m\u001b[0;34m.\u001b[0m\u001b[0mopt_name\u001b[0m\u001b[0;34m)\u001b[0m\u001b[0;34m)\u001b[0m\u001b[0;34m\u001b[0m\u001b[0;34m\u001b[0m\u001b[0m\n\u001b[0;32m--> 361\u001b[0;31m             \u001b[0mself\u001b[0m\u001b[0;34m.\u001b[0m\u001b[0m_train_sgd\u001b[0m\u001b[0;34m(\u001b[0m\u001b[0mepochs\u001b[0m\u001b[0;34m,\u001b[0m \u001b[0mdisplay_every\u001b[0m\u001b[0;34m)\u001b[0m\u001b[0;34m\u001b[0m\u001b[0;34m\u001b[0m\u001b[0m\n\u001b[0m\u001b[1;32m    362\u001b[0m         \u001b[0mself\u001b[0m\u001b[0;34m.\u001b[0m\u001b[0mcallbacks\u001b[0m\u001b[0;34m.\u001b[0m\u001b[0mon_train_end\u001b[0m\u001b[0;34m(\u001b[0m\u001b[0;34m)\u001b[0m\u001b[0;34m\u001b[0m\u001b[0;34m\u001b[0m\u001b[0m\n\u001b[1;32m    363\u001b[0m \u001b[0;34m\u001b[0m\u001b[0m\n",
            "\u001b[0;32m/usr/local/lib/python3.7/dist-packages/deepxde/model.py\u001b[0m in \u001b[0;36m_train_sgd\u001b[0;34m(self, epochs, display_every)\u001b[0m\n\u001b[1;32m    379\u001b[0m                 \u001b[0mself\u001b[0m\u001b[0;34m.\u001b[0m\u001b[0mtrain_state\u001b[0m\u001b[0;34m.\u001b[0m\u001b[0mX_train\u001b[0m\u001b[0;34m,\u001b[0m\u001b[0;34m\u001b[0m\u001b[0;34m\u001b[0m\u001b[0m\n\u001b[1;32m    380\u001b[0m                 \u001b[0mself\u001b[0m\u001b[0;34m.\u001b[0m\u001b[0mtrain_state\u001b[0m\u001b[0;34m.\u001b[0m\u001b[0my_train\u001b[0m\u001b[0;34m,\u001b[0m\u001b[0;34m\u001b[0m\u001b[0;34m\u001b[0m\u001b[0m\n\u001b[0;32m--> 381\u001b[0;31m                 \u001b[0mself\u001b[0m\u001b[0;34m.\u001b[0m\u001b[0mtrain_state\u001b[0m\u001b[0;34m.\u001b[0m\u001b[0mtrain_aux_vars\u001b[0m\u001b[0;34m,\u001b[0m\u001b[0;34m\u001b[0m\u001b[0;34m\u001b[0m\u001b[0m\n\u001b[0m\u001b[1;32m    382\u001b[0m             )\n\u001b[1;32m    383\u001b[0m \u001b[0;34m\u001b[0m\u001b[0m\n",
            "\u001b[0;32m/usr/local/lib/python3.7/dist-packages/deepxde/model.py\u001b[0m in \u001b[0;36m_train_step\u001b[0;34m(self, inputs, targets, auxiliary_vars)\u001b[0m\n\u001b[1;32m    289\u001b[0m         \u001b[0;32mif\u001b[0m \u001b[0mbackend_name\u001b[0m \u001b[0;34m==\u001b[0m \u001b[0;34m\"tensorflow.compat.v1\"\u001b[0m\u001b[0;34m:\u001b[0m\u001b[0;34m\u001b[0m\u001b[0;34m\u001b[0m\u001b[0m\n\u001b[1;32m    290\u001b[0m             \u001b[0mfeed_dict\u001b[0m \u001b[0;34m=\u001b[0m \u001b[0mself\u001b[0m\u001b[0;34m.\u001b[0m\u001b[0mnet\u001b[0m\u001b[0;34m.\u001b[0m\u001b[0mfeed_dict\u001b[0m\u001b[0;34m(\u001b[0m\u001b[0;32mTrue\u001b[0m\u001b[0;34m,\u001b[0m \u001b[0minputs\u001b[0m\u001b[0;34m,\u001b[0m \u001b[0mtargets\u001b[0m\u001b[0;34m,\u001b[0m \u001b[0mauxiliary_vars\u001b[0m\u001b[0;34m)\u001b[0m\u001b[0;34m\u001b[0m\u001b[0;34m\u001b[0m\u001b[0m\n\u001b[0;32m--> 291\u001b[0;31m             \u001b[0mself\u001b[0m\u001b[0;34m.\u001b[0m\u001b[0msess\u001b[0m\u001b[0;34m.\u001b[0m\u001b[0mrun\u001b[0m\u001b[0;34m(\u001b[0m\u001b[0mself\u001b[0m\u001b[0;34m.\u001b[0m\u001b[0mtrain_step\u001b[0m\u001b[0;34m,\u001b[0m \u001b[0mfeed_dict\u001b[0m\u001b[0;34m=\u001b[0m\u001b[0mfeed_dict\u001b[0m\u001b[0;34m)\u001b[0m\u001b[0;34m\u001b[0m\u001b[0;34m\u001b[0m\u001b[0m\n\u001b[0m\u001b[1;32m    292\u001b[0m         \u001b[0;32melif\u001b[0m \u001b[0mbackend_name\u001b[0m \u001b[0;34m==\u001b[0m \u001b[0;34m\"tensorflow\"\u001b[0m\u001b[0;34m:\u001b[0m\u001b[0;34m\u001b[0m\u001b[0;34m\u001b[0m\u001b[0m\n\u001b[1;32m    293\u001b[0m             \u001b[0mself\u001b[0m\u001b[0;34m.\u001b[0m\u001b[0mtrain_step\u001b[0m\u001b[0;34m(\u001b[0m\u001b[0minputs\u001b[0m\u001b[0;34m,\u001b[0m \u001b[0mtargets\u001b[0m\u001b[0;34m,\u001b[0m \u001b[0mauxiliary_vars\u001b[0m\u001b[0;34m)\u001b[0m\u001b[0;34m\u001b[0m\u001b[0;34m\u001b[0m\u001b[0m\n",
            "\u001b[0;32m/usr/local/lib/python3.7/dist-packages/tensorflow/python/client/session.py\u001b[0m in \u001b[0;36mrun\u001b[0;34m(self, fetches, feed_dict, options, run_metadata)\u001b[0m\n\u001b[1;32m    969\u001b[0m     \u001b[0;32mtry\u001b[0m\u001b[0;34m:\u001b[0m\u001b[0;34m\u001b[0m\u001b[0;34m\u001b[0m\u001b[0m\n\u001b[1;32m    970\u001b[0m       result = self._run(None, fetches, feed_dict, options_ptr,\n\u001b[0;32m--> 971\u001b[0;31m                          run_metadata_ptr)\n\u001b[0m\u001b[1;32m    972\u001b[0m       \u001b[0;32mif\u001b[0m \u001b[0mrun_metadata\u001b[0m\u001b[0;34m:\u001b[0m\u001b[0;34m\u001b[0m\u001b[0;34m\u001b[0m\u001b[0m\n\u001b[1;32m    973\u001b[0m         \u001b[0mproto_data\u001b[0m \u001b[0;34m=\u001b[0m \u001b[0mtf_session\u001b[0m\u001b[0;34m.\u001b[0m\u001b[0mTF_GetBuffer\u001b[0m\u001b[0;34m(\u001b[0m\u001b[0mrun_metadata_ptr\u001b[0m\u001b[0;34m)\u001b[0m\u001b[0;34m\u001b[0m\u001b[0;34m\u001b[0m\u001b[0m\n",
            "\u001b[0;32m/usr/local/lib/python3.7/dist-packages/tensorflow/python/client/session.py\u001b[0m in \u001b[0;36m_run\u001b[0;34m(self, handle, fetches, feed_dict, options, run_metadata)\u001b[0m\n\u001b[1;32m   1192\u001b[0m     \u001b[0;32mif\u001b[0m \u001b[0mfinal_fetches\u001b[0m \u001b[0;32mor\u001b[0m \u001b[0mfinal_targets\u001b[0m \u001b[0;32mor\u001b[0m \u001b[0;34m(\u001b[0m\u001b[0mhandle\u001b[0m \u001b[0;32mand\u001b[0m \u001b[0mfeed_dict_tensor\u001b[0m\u001b[0;34m)\u001b[0m\u001b[0;34m:\u001b[0m\u001b[0;34m\u001b[0m\u001b[0;34m\u001b[0m\u001b[0m\n\u001b[1;32m   1193\u001b[0m       results = self._do_run(handle, final_targets, final_fetches,\n\u001b[0;32m-> 1194\u001b[0;31m                              feed_dict_tensor, options, run_metadata)\n\u001b[0m\u001b[1;32m   1195\u001b[0m     \u001b[0;32melse\u001b[0m\u001b[0;34m:\u001b[0m\u001b[0;34m\u001b[0m\u001b[0;34m\u001b[0m\u001b[0m\n\u001b[1;32m   1196\u001b[0m       \u001b[0mresults\u001b[0m \u001b[0;34m=\u001b[0m \u001b[0;34m[\u001b[0m\u001b[0;34m]\u001b[0m\u001b[0;34m\u001b[0m\u001b[0;34m\u001b[0m\u001b[0m\n",
            "\u001b[0;32m/usr/local/lib/python3.7/dist-packages/tensorflow/python/client/session.py\u001b[0m in \u001b[0;36m_do_run\u001b[0;34m(self, handle, target_list, fetch_list, feed_dict, options, run_metadata)\u001b[0m\n\u001b[1;32m   1372\u001b[0m     \u001b[0;32mif\u001b[0m \u001b[0mhandle\u001b[0m \u001b[0;32mis\u001b[0m \u001b[0;32mNone\u001b[0m\u001b[0;34m:\u001b[0m\u001b[0;34m\u001b[0m\u001b[0;34m\u001b[0m\u001b[0m\n\u001b[1;32m   1373\u001b[0m       return self._do_call(_run_fn, feeds, fetches, targets, options,\n\u001b[0;32m-> 1374\u001b[0;31m                            run_metadata)\n\u001b[0m\u001b[1;32m   1375\u001b[0m     \u001b[0;32melse\u001b[0m\u001b[0;34m:\u001b[0m\u001b[0;34m\u001b[0m\u001b[0;34m\u001b[0m\u001b[0m\n\u001b[1;32m   1376\u001b[0m       \u001b[0;32mreturn\u001b[0m \u001b[0mself\u001b[0m\u001b[0;34m.\u001b[0m\u001b[0m_do_call\u001b[0m\u001b[0;34m(\u001b[0m\u001b[0m_prun_fn\u001b[0m\u001b[0;34m,\u001b[0m \u001b[0mhandle\u001b[0m\u001b[0;34m,\u001b[0m \u001b[0mfeeds\u001b[0m\u001b[0;34m,\u001b[0m \u001b[0mfetches\u001b[0m\u001b[0;34m)\u001b[0m\u001b[0;34m\u001b[0m\u001b[0;34m\u001b[0m\u001b[0m\n",
            "\u001b[0;32m/usr/local/lib/python3.7/dist-packages/tensorflow/python/client/session.py\u001b[0m in \u001b[0;36m_do_call\u001b[0;34m(self, fn, *args)\u001b[0m\n\u001b[1;32m   1378\u001b[0m   \u001b[0;32mdef\u001b[0m \u001b[0m_do_call\u001b[0m\u001b[0;34m(\u001b[0m\u001b[0mself\u001b[0m\u001b[0;34m,\u001b[0m \u001b[0mfn\u001b[0m\u001b[0;34m,\u001b[0m \u001b[0;34m*\u001b[0m\u001b[0margs\u001b[0m\u001b[0;34m)\u001b[0m\u001b[0;34m:\u001b[0m\u001b[0;34m\u001b[0m\u001b[0;34m\u001b[0m\u001b[0m\n\u001b[1;32m   1379\u001b[0m     \u001b[0;32mtry\u001b[0m\u001b[0;34m:\u001b[0m\u001b[0;34m\u001b[0m\u001b[0;34m\u001b[0m\u001b[0m\n\u001b[0;32m-> 1380\u001b[0;31m       \u001b[0;32mreturn\u001b[0m \u001b[0mfn\u001b[0m\u001b[0;34m(\u001b[0m\u001b[0;34m*\u001b[0m\u001b[0margs\u001b[0m\u001b[0;34m)\u001b[0m\u001b[0;34m\u001b[0m\u001b[0;34m\u001b[0m\u001b[0m\n\u001b[0m\u001b[1;32m   1381\u001b[0m     \u001b[0;32mexcept\u001b[0m \u001b[0merrors\u001b[0m\u001b[0;34m.\u001b[0m\u001b[0mOpError\u001b[0m \u001b[0;32mas\u001b[0m \u001b[0me\u001b[0m\u001b[0;34m:\u001b[0m\u001b[0;34m\u001b[0m\u001b[0;34m\u001b[0m\u001b[0m\n\u001b[1;32m   1382\u001b[0m       \u001b[0mmessage\u001b[0m \u001b[0;34m=\u001b[0m \u001b[0mcompat\u001b[0m\u001b[0;34m.\u001b[0m\u001b[0mas_text\u001b[0m\u001b[0;34m(\u001b[0m\u001b[0me\u001b[0m\u001b[0;34m.\u001b[0m\u001b[0mmessage\u001b[0m\u001b[0;34m)\u001b[0m\u001b[0;34m\u001b[0m\u001b[0;34m\u001b[0m\u001b[0m\n",
            "\u001b[0;32m/usr/local/lib/python3.7/dist-packages/tensorflow/python/client/session.py\u001b[0m in \u001b[0;36m_run_fn\u001b[0;34m(feed_dict, fetch_list, target_list, options, run_metadata)\u001b[0m\n\u001b[1;32m   1362\u001b[0m       \u001b[0mself\u001b[0m\u001b[0;34m.\u001b[0m\u001b[0m_extend_graph\u001b[0m\u001b[0;34m(\u001b[0m\u001b[0;34m)\u001b[0m\u001b[0;34m\u001b[0m\u001b[0;34m\u001b[0m\u001b[0m\n\u001b[1;32m   1363\u001b[0m       return self._call_tf_sessionrun(options, feed_dict, fetch_list,\n\u001b[0;32m-> 1364\u001b[0;31m                                       target_list, run_metadata)\n\u001b[0m\u001b[1;32m   1365\u001b[0m \u001b[0;34m\u001b[0m\u001b[0m\n\u001b[1;32m   1366\u001b[0m     \u001b[0;32mdef\u001b[0m \u001b[0m_prun_fn\u001b[0m\u001b[0;34m(\u001b[0m\u001b[0mhandle\u001b[0m\u001b[0;34m,\u001b[0m \u001b[0mfeed_dict\u001b[0m\u001b[0;34m,\u001b[0m \u001b[0mfetch_list\u001b[0m\u001b[0;34m)\u001b[0m\u001b[0;34m:\u001b[0m\u001b[0;34m\u001b[0m\u001b[0;34m\u001b[0m\u001b[0m\n",
            "\u001b[0;32m/usr/local/lib/python3.7/dist-packages/tensorflow/python/client/session.py\u001b[0m in \u001b[0;36m_call_tf_sessionrun\u001b[0;34m(self, options, feed_dict, fetch_list, target_list, run_metadata)\u001b[0m\n\u001b[1;32m   1456\u001b[0m     return tf_session.TF_SessionRun_wrapper(self._session, options, feed_dict,\n\u001b[1;32m   1457\u001b[0m                                             \u001b[0mfetch_list\u001b[0m\u001b[0;34m,\u001b[0m \u001b[0mtarget_list\u001b[0m\u001b[0;34m,\u001b[0m\u001b[0;34m\u001b[0m\u001b[0;34m\u001b[0m\u001b[0m\n\u001b[0;32m-> 1458\u001b[0;31m                                             run_metadata)\n\u001b[0m\u001b[1;32m   1459\u001b[0m \u001b[0;34m\u001b[0m\u001b[0m\n\u001b[1;32m   1460\u001b[0m   \u001b[0;32mdef\u001b[0m \u001b[0m_call_tf_sessionprun\u001b[0m\u001b[0;34m(\u001b[0m\u001b[0mself\u001b[0m\u001b[0;34m,\u001b[0m \u001b[0mhandle\u001b[0m\u001b[0;34m,\u001b[0m \u001b[0mfeed_dict\u001b[0m\u001b[0;34m,\u001b[0m \u001b[0mfetch_list\u001b[0m\u001b[0;34m)\u001b[0m\u001b[0;34m:\u001b[0m\u001b[0;34m\u001b[0m\u001b[0;34m\u001b[0m\u001b[0m\n",
            "\u001b[0;31mKeyboardInterrupt\u001b[0m: "
          ]
        }
      ]
    },
    {
      "cell_type": "markdown",
      "metadata": {
        "id": "jo4s-9ncijua"
      },
      "source": [
        "#### 3.4 Result From Deep Learning"
      ]
    },
    {
      "cell_type": "code",
      "metadata": {
        "colab": {
          "base_uri": "https://localhost:8080/",
          "height": 279
        },
        "id": "1lUpKjz91cz0",
        "outputId": "22a1ebe2-7542-4c2b-b272-f8e362e82c22"
      },
      "source": [
        "# reopen saved data using callbacks in fnamevar \n",
        "lines = open(fnamevar, \"r\").readlines()\n",
        "\n",
        "# read output data in fnamevar (this line is a long story...)\n",
        "Chat = np.array([np.fromstring(min(re.findall(re.escape('[')+\"(.*?)\"+re.escape(']'),line), key=len), sep=',') for line in lines])\n",
        "\n",
        "l,c = Chat.shape\n",
        "\n",
        "C1true = 10\n",
        "C2true = 0.2\n",
        "C3true = 20\n",
        "C4true = 3\n",
        "\n",
        "\n",
        "plt.plot(range(l),Chat[:,0],'r-')\n",
        "plt.plot(range(l),Chat[:,1],'k-')\n",
        "plt.plot(range(l),Chat[:,2],'b-')\n",
        "plt.plot(range(l),Chat[:,3],'g-')\n",
        "plt.plot(range(l),np.ones(Chat[:,0].shape)*C1true,'r--')\n",
        "plt.plot(range(l),np.ones(Chat[:,1].shape)*C2true,'k--')\n",
        "plt.plot(range(l),np.ones(Chat[:,2].shape)*C3true,'b--')\n",
        "plt.plot(range(l),np.ones(Chat[:,3].shape)*C4true,'g--')\n",
        "plt.legend(['C1hat','C2hat', 'C3hat', 'C4hat', 'True C1','True C2', 'True C3', 'True C4'],loc = \"right\")\n",
        "plt.xlabel('Epoch')\n",
        "plt.show()"
      ],
      "execution_count": 19,
      "outputs": [
        {
          "output_type": "display_data",
          "data": {
            "image/png": "[encoded data removed]",
            "text/plain": [
              "<Figure size 432x288 with 1 Axes>"
            ]
          },
          "metadata": {
            "needs_background": "light"
          }
        }
      ]
    },
    {
      "cell_type": "code",
      "metadata": {
        "colab": {
          "base_uri": "https://localhost:8080/",
          "height": 279
        },
        "id": "C4fqynjyrHOc",
        "outputId": "09490b26-59a0-40c9-aa11-4f1ca3a2915c"
      },
      "source": [
        "yhat = model.predict(obs_t)\n",
        "\n",
        "plt.plot(obs_t, obs_y,'-',obs_t, yhat,'--')\n",
        "plt.xlabel('Time')\n",
        "plt.legend(['S','E', 'I','R','Sh','Eh', 'Ih','Rh'])\n",
        "# plt.title('A Comparision')\n",
        "plt.show()"
      ],
      "execution_count": 21,
      "outputs": [
        {
          "output_type": "display_data",
          "data": {
            "image/png": "[encoded data removed]",
            "text/plain": [
              "<Figure size 432x288 with 1 Axes>"
            ]
          },
          "metadata": {
            "needs_background": "light"
          }
        }
      ]
    },
    {
      "cell_type": "markdown",
      "metadata": {
        "id": "9KQsvKxzjBHs"
      },
      "source": [
        "The two plots show that the prediction fits the observation from the data, indicating that the deep learning algorithm works perfectly in solving inverse problem for our classic SIR model."
      ]
    },
    {
      "cell_type": "markdown",
      "metadata": {
        "id": "ZyNReU6TjhFe"
      },
      "source": [
        "### 4. Further Explorations"
      ]
    },
    {
      "cell_type": "markdown",
      "metadata": {
        "id": "oFJWYjlBjqoZ"
      },
      "source": [
        "#### 4.1 Different Training Data\n",
        "For further study, we may want to experiment with different training data, for example, change initial conditions and parameters and increase the period of time."
      ]
    },
    {
      "cell_type": "markdown",
      "metadata": {
        "id": "qpPjC4hdkhYk"
      },
      "source": [
        "#### 4.2 Different Parameters for the Deep Learning Algorithm\n",
        "We can also validate with different parameters for the deep learning algorithm, such as the learning rate, the number of layers and neurons, etc."
      ]
    },
    {
      "cell_type": "markdown",
      "metadata": {
        "id": "jKG8UbjclBXz"
      },
      "source": [
        "#### 4.3 More Complicated Epidemic Model and Real Data\n",
        "\n",
        "The algorithm learns the simple SIR model sucessfully, but what would happen if we apply the same algorithm to more complicated models with higher dimensions and more parameters? Additionally, instead of learning from self-generated data, we can also test our model in real data from COVID-19 pandemic."
      ]
    },
    {
      "cell_type": "markdown",
      "metadata": {
        "id": "Mv8LhE5kahkx"
      },
      "source": [
        "#5. References\n",
        "\n",
        "Reference: Kermack William Ogilvy and McKendrick A. G. 1927A contribution to the mathematical theory of epidemicsProc. R. Soc. Lond. A115: 700–721 http://doi.org/10.1098/rspa.1927.0118\n",
        "\n",
        "Fokas AS, Dikaios N, Kastis\n",
        "GA. 2020 Mathematical models and deep\n",
        "learning for predicting the number of\n",
        "individuals reported to be infected with SARSCoV-2. J. R. Soc. Interface 17: 20200494.\n",
        "http://dx.doi.org/10.1098/rsif.2020.0494\n",
        "\n",
        "Cuevas-Maraver J, Kevrekidis PG, Chen QY, Kevrekidis GA, Villalobos-Daniel V, Rapti Z, Drossinos Y. Lockdown measures and their impact on single- and two-age-structured epidemic model for the COVID-19 outbreak in Mexico. Math Biosci. 2021 Jun;336:108590. doi: 10.1016/j.mbs.2021.108590. Epub 2021 Mar 27. PMID: 33785291; PMCID: PMC7997978\n"
      ]
    }
  ]
}